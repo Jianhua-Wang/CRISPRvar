{
 "cells": [
  {
   "cell_type": "code",
   "execution_count": 1,
   "metadata": {
    "ExecuteTime": {
     "end_time": "2020-07-10T06:59:17.935568Z",
     "start_time": "2020-07-10T06:59:17.710328Z"
    }
   },
   "outputs": [],
   "source": [
    "import mappy as mp\n",
    "import pandas as pd\n",
    "import re,tempfile,shutil,os,argparse,subprocess\n",
    "from subprocess import call\n",
    "from multiprocessing import Pool\n",
    "import itertools\n",
    "import gzip"
   ]
  },
  {
   "cell_type": "markdown",
   "metadata": {
    "ExecuteTime": {
     "end_time": "2020-07-09T13:17:59.398337Z",
     "start_time": "2020-07-09T13:17:59.395098Z"
    }
   },
   "source": [
    "# Get pattern automatically"
   ]
  },
  {
   "cell_type": "code",
   "execution_count": 103,
   "metadata": {
    "ExecuteTime": {
     "end_time": "2020-07-10T07:36:41.699513Z",
     "start_time": "2020-07-10T07:36:41.684396Z"
    }
   },
   "outputs": [],
   "source": [
    "def find_insert_position(read_pair_1, read_pair_2, align_pattern):\n",
    "    insert_position = 0\n",
    "\n",
    "    def align(seq_1, seq_2):\n",
    "        align_base = ['1' if base1 == base2 else '0' for base1,\n",
    "                      base2 in zip(seq_1, seq_2)]\n",
    "        return ''.join(align_base)\n",
    "\n",
    "    for i, reada in enumerate(read_pair_1):\n",
    "        for j, readb in enumerate(read_pair_2):\n",
    "            align_result = align(reada, readb)\n",
    "        if '1'*len(readb) == align(reada, readb):\n",
    "            sgrna_align = align(read_pair_1[j], read_pair_2[i])\n",
    "            match = re.findall(align_pattern, sgrna_align)\n",
    "            if match:\n",
    "                position = len(match[0][0])\n",
    "                insert_position = [position,\n",
    "                                   read_pair_1[j][position-4:position],\n",
    "                                   read_pair_1[j][position+20:position+24]]\n",
    "            break\n",
    "    return insert_position"
   ]
  },
  {
   "cell_type": "code",
   "execution_count": 104,
   "metadata": {
    "ExecuteTime": {
     "end_time": "2020-07-10T07:36:42.163004Z",
     "start_time": "2020-07-10T07:36:42.154597Z"
    },
    "scrolled": true
   },
   "outputs": [],
   "source": [
    "def get_common_pattern(fq1, fq2):\n",
    "    ith = 0\n",
    "    seq = {}\n",
    "    for read1, read2 in zip(mp.fastx_read(fq1, read_comment=True),\n",
    "                            mp.fastx_read(fq2, read_comment=True)):\n",
    "        seq[read1[0]] = [read1[1], read2[1]]\n",
    "        ith += 1\n",
    "        if ith == 1000:\n",
    "            break\n",
    "\n",
    "    detect_df = pd.DataFrame(columns=['position', 'left', 'right'])\n",
    "    align_pattern = re.compile(r'(^1+)0([0-1]{19})(1+$)')\n",
    "    ith = 0\n",
    "    for reada_id, readb_id in itertools.combinations(seq.keys(), 2):\n",
    "        insert_position = find_insert_position(\n",
    "            seq[reada_id], seq[readb_id], align_pattern)\n",
    "        if insert_position:\n",
    "            detect_df.loc[ith] = insert_position\n",
    "            ith += 1\n",
    "            if ith == 100:\n",
    "                break\n",
    "    return detect_df"
   ]
  },
  {
   "cell_type": "code",
   "execution_count": 110,
   "metadata": {
    "ExecuteTime": {
     "end_time": "2020-07-10T07:38:50.578632Z",
     "start_time": "2020-07-10T07:38:49.909501Z"
    },
    "scrolled": true
   },
   "outputs": [
    {
     "data": {
      "text/html": [
       "<div>\n",
       "<style scoped>\n",
       "    .dataframe tbody tr th:only-of-type {\n",
       "        vertical-align: middle;\n",
       "    }\n",
       "\n",
       "    .dataframe tbody tr th {\n",
       "        vertical-align: top;\n",
       "    }\n",
       "\n",
       "    .dataframe thead th {\n",
       "        text-align: right;\n",
       "    }\n",
       "</style>\n",
       "<table border=\"1\" class=\"dataframe\">\n",
       "  <thead>\n",
       "    <tr style=\"text-align: right;\">\n",
       "      <th></th>\n",
       "      <th>position</th>\n",
       "      <th>left</th>\n",
       "      <th>right</th>\n",
       "    </tr>\n",
       "  </thead>\n",
       "  <tbody>\n",
       "    <tr>\n",
       "      <th>0</th>\n",
       "      <td>50</td>\n",
       "      <td>AAAC</td>\n",
       "      <td>CGGT</td>\n",
       "    </tr>\n",
       "  </tbody>\n",
       "</table>\n",
       "</div>"
      ],
      "text/plain": [
       "  position  left right\n",
       "0       50  AAAC  CGGT"
      ]
     },
     "execution_count": 110,
     "metadata": {},
     "output_type": "execute_result"
    }
   ],
   "source": [
    "fq1,fq2 = '/f/jianhua/LibraryQC/input/data/vf_1.fq.gz','/f/jianhua/LibraryQC/input/data/vf_2.fq.gz'\n",
    "common_pattern = get_common_pattern(fq1,fq2)\n",
    "common_pattern.mode()"
   ]
  },
  {
   "cell_type": "code",
   "execution_count": null,
   "metadata": {},
   "outputs": [],
   "source": []
  }
 ],
 "metadata": {
  "kernelspec": {
   "display_name": "Python 3",
   "language": "python",
   "name": "python3"
  },
  "language_info": {
   "codemirror_mode": {
    "name": "ipython",
    "version": 3
   },
   "file_extension": ".py",
   "mimetype": "text/x-python",
   "name": "python",
   "nbconvert_exporter": "python",
   "pygments_lexer": "ipython3",
   "version": "3.7.7"
  },
  "toc": {
   "base_numbering": 1,
   "nav_menu": {},
   "number_sections": true,
   "sideBar": true,
   "skip_h1_title": false,
   "title_cell": "Table of Contents",
   "title_sidebar": "Contents",
   "toc_cell": false,
   "toc_position": {},
   "toc_section_display": true,
   "toc_window_display": false
  },
  "varInspector": {
   "cols": {
    "lenName": 16,
    "lenType": 16,
    "lenVar": 40
   },
   "kernels_config": {
    "python": {
     "delete_cmd_postfix": "",
     "delete_cmd_prefix": "del ",
     "library": "var_list.py",
     "varRefreshCmd": "print(var_dic_list())"
    },
    "r": {
     "delete_cmd_postfix": ") ",
     "delete_cmd_prefix": "rm(",
     "library": "var_list.r",
     "varRefreshCmd": "cat(var_dic_list()) "
    }
   },
   "types_to_exclude": [
    "module",
    "function",
    "builtin_function_or_method",
    "instance",
    "_Feature"
   ],
   "window_display": false
  }
 },
 "nbformat": 4,
 "nbformat_minor": 4
}
