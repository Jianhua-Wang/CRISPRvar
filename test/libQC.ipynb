{
 "cells": [
  {
   "cell_type": "code",
   "execution_count": 3,
   "metadata": {
    "ExecuteTime": {
     "end_time": "2020-10-20T09:36:55.498917Z",
     "start_time": "2020-10-20T09:36:55.234572Z"
    }
   },
   "outputs": [],
   "source": [
    "import mappy as mp\n",
    "import pandas as pd"
   ]
  },
  {
   "cell_type": "code",
   "execution_count": 19,
   "metadata": {
    "ExecuteTime": {
     "end_time": "2020-10-20T12:26:15.010106Z",
     "start_time": "2020-10-20T12:26:15.006925Z"
    }
   },
   "outputs": [
    {
     "name": "stdout",
     "output_type": "stream",
     "text": [
      "5'end length: 255\n",
      "3'end length: 72\n"
     ]
    }
   ],
   "source": [
    "vector = {'5':'',\n",
    "          '3':''}\n",
    "for name, seq, qual in mp.fastx_read('./vector.fa'):\n",
    "    if name == '5' or '3':\n",
    "        vector[name] = seq\n",
    "\n",
    "if len(vector['5']) == 0 or len(vector['3']) == 0:\n",
    "    print('Invalid Vector sequence!')\n",
    "else:\n",
    "    print(f\"5\\'end length: {len(vector['5'])}\")\n",
    "    print(f\"3\\'end length: {len(vector['3'])}\")"
   ]
  },
  {
   "cell_type": "code",
   "execution_count": 20,
   "metadata": {
    "ExecuteTime": {
     "end_time": "2020-10-20T12:27:40.683427Z",
     "start_time": "2020-10-20T12:27:40.671000Z"
    }
   },
   "outputs": [],
   "source": [
    "design_lib = pd.read_csv('library.csv')"
   ]
  },
  {
   "cell_type": "code",
   "execution_count": 22,
   "metadata": {
    "ExecuteTime": {
     "end_time": "2020-10-20T12:30:11.224337Z",
     "start_time": "2020-10-20T12:30:11.215718Z"
    }
   },
   "outputs": [],
   "source": [
    "with open('./library.fa','w') as lib_fa:\n",
    "    for seq_id, seq, note in design_lib.values:\n",
    "        lib_fa.write(f\">{seq_id}\\n{vector['5']}{seq}{vector['3']}\\n\")"
   ]
  },
  {
   "cell_type": "code",
   "execution_count": 21,
   "metadata": {
    "ExecuteTime": {
     "end_time": "2020-10-20T12:27:42.824324Z",
     "start_time": "2020-10-20T12:27:42.815627Z"
    }
   },
   "outputs": [
    {
     "data": {
      "text/html": [
       "<div>\n",
       "<style scoped>\n",
       "    .dataframe tbody tr th:only-of-type {\n",
       "        vertical-align: middle;\n",
       "    }\n",
       "\n",
       "    .dataframe tbody tr th {\n",
       "        vertical-align: top;\n",
       "    }\n",
       "\n",
       "    .dataframe thead th {\n",
       "        text-align: right;\n",
       "    }\n",
       "</style>\n",
       "<table border=\"1\" class=\"dataframe\">\n",
       "  <thead>\n",
       "    <tr style=\"text-align: right;\">\n",
       "      <th></th>\n",
       "      <th>id</th>\n",
       "      <th>sequence</th>\n",
       "      <th>note</th>\n",
       "    </tr>\n",
       "  </thead>\n",
       "  <tbody>\n",
       "    <tr>\n",
       "      <th>0</th>\n",
       "      <td>1</td>\n",
       "      <td>ATAGGCACACATGAAGCGGA</td>\n",
       "      <td>NaN</td>\n",
       "    </tr>\n",
       "    <tr>\n",
       "      <th>1</th>\n",
       "      <td>2</td>\n",
       "      <td>TTTGCTGATAACTAGATCTA</td>\n",
       "      <td>NaN</td>\n",
       "    </tr>\n",
       "    <tr>\n",
       "      <th>2</th>\n",
       "      <td>3</td>\n",
       "      <td>TTGCAGGCCGCGATCTGTGC</td>\n",
       "      <td>NaN</td>\n",
       "    </tr>\n",
       "    <tr>\n",
       "      <th>3</th>\n",
       "      <td>4</td>\n",
       "      <td>GGTGGAGACTCCGAGTGTAG</td>\n",
       "      <td>NaN</td>\n",
       "    </tr>\n",
       "    <tr>\n",
       "      <th>4</th>\n",
       "      <td>5</td>\n",
       "      <td>ACTTCAAGTACGAGAACCAG</td>\n",
       "      <td>NaN</td>\n",
       "    </tr>\n",
       "    <tr>\n",
       "      <th>...</th>\n",
       "      <td>...</td>\n",
       "      <td>...</td>\n",
       "      <td>...</td>\n",
       "    </tr>\n",
       "    <tr>\n",
       "      <th>3154</th>\n",
       "      <td>3155</td>\n",
       "      <td>CGGTTTTCGCATTACTTTAA</td>\n",
       "      <td>+</td>\n",
       "    </tr>\n",
       "    <tr>\n",
       "      <th>3155</th>\n",
       "      <td>3156</td>\n",
       "      <td>GGCTGGTGCAGAAGTAATTG</td>\n",
       "      <td>+</td>\n",
       "    </tr>\n",
       "    <tr>\n",
       "      <th>3156</th>\n",
       "      <td>3157</td>\n",
       "      <td>CATTGAGCAAGTGAAGTATG</td>\n",
       "      <td>+</td>\n",
       "    </tr>\n",
       "    <tr>\n",
       "      <th>3157</th>\n",
       "      <td>3158</td>\n",
       "      <td>CACTGAGCAAGTGAAGTATG</td>\n",
       "      <td>+</td>\n",
       "    </tr>\n",
       "    <tr>\n",
       "      <th>3158</th>\n",
       "      <td>3159</td>\n",
       "      <td>AAATAAAACAAAATCAAACA</td>\n",
       "      <td>+</td>\n",
       "    </tr>\n",
       "  </tbody>\n",
       "</table>\n",
       "<p>3159 rows × 3 columns</p>\n",
       "</div>"
      ],
      "text/plain": [
       "        id              sequence note\n",
       "0        1  ATAGGCACACATGAAGCGGA  NaN\n",
       "1        2  TTTGCTGATAACTAGATCTA  NaN\n",
       "2        3  TTGCAGGCCGCGATCTGTGC  NaN\n",
       "3        4  GGTGGAGACTCCGAGTGTAG  NaN\n",
       "4        5  ACTTCAAGTACGAGAACCAG  NaN\n",
       "...    ...                   ...  ...\n",
       "3154  3155  CGGTTTTCGCATTACTTTAA    +\n",
       "3155  3156  GGCTGGTGCAGAAGTAATTG    +\n",
       "3156  3157  CATTGAGCAAGTGAAGTATG    +\n",
       "3157  3158  CACTGAGCAAGTGAAGTATG    +\n",
       "3158  3159  AAATAAAACAAAATCAAACA    +\n",
       "\n",
       "[3159 rows x 3 columns]"
      ]
     },
     "execution_count": 21,
     "metadata": {},
     "output_type": "execute_result"
    }
   ],
   "source": [
    "design_lib"
   ]
  },
  {
   "cell_type": "code",
   "execution_count": null,
   "metadata": {},
   "outputs": [],
   "source": []
  }
 ],
 "metadata": {
  "kernelspec": {
   "display_name": "Python 3",
   "language": "python",
   "name": "python3"
  },
  "language_info": {
   "codemirror_mode": {
    "name": "ipython",
    "version": 3
   },
   "file_extension": ".py",
   "mimetype": "text/x-python",
   "name": "python",
   "nbconvert_exporter": "python",
   "pygments_lexer": "ipython3",
   "version": "3.8.3"
  },
  "toc": {
   "base_numbering": 1,
   "nav_menu": {},
   "number_sections": true,
   "sideBar": true,
   "skip_h1_title": false,
   "title_cell": "Table of Contents",
   "title_sidebar": "Contents",
   "toc_cell": false,
   "toc_position": {},
   "toc_section_display": true,
   "toc_window_display": false
  },
  "varInspector": {
   "cols": {
    "lenName": 16,
    "lenType": 16,
    "lenVar": 40
   },
   "kernels_config": {
    "python": {
     "delete_cmd_postfix": "",
     "delete_cmd_prefix": "del ",
     "library": "var_list.py",
     "varRefreshCmd": "print(var_dic_list())"
    },
    "r": {
     "delete_cmd_postfix": ") ",
     "delete_cmd_prefix": "rm(",
     "library": "var_list.r",
     "varRefreshCmd": "cat(var_dic_list()) "
    }
   },
   "types_to_exclude": [
    "module",
    "function",
    "builtin_function_or_method",
    "instance",
    "_Feature"
   ],
   "window_display": false
  }
 },
 "nbformat": 4,
 "nbformat_minor": 4
}
